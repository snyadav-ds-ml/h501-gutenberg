{
 "cells": [
  {
   "cell_type": "code",
   "execution_count": 1,
   "id": "90463f6d",
   "metadata": {},
   "outputs": [
    {
     "name": "stdout",
     "output_type": "stream",
     "text": [
      "\n",
      "# conda environments:\n",
      "#\n",
      "base                   C:\\Users\\yadav\\anaconda3\n",
      "h501-gutenberg       * C:\\Users\\yadav\\anaconda3\\envs\\h501-gutenberg\n",
      "measles-case-analysis   C:\\Users\\yadav\\anaconda3\\envs\\measles-case-analysis\n",
      "                       C:\\Users\\yadav\\miniconda3\n",
      "\n"
     ]
    }
   ],
   "source": [
    "!conda env list"
   ]
  }
 ],
 "metadata": {
  "kernelspec": {
   "display_name": "h501-gutenberg",
   "language": "python",
   "name": "python3"
  },
  "language_info": {
   "codemirror_mode": {
    "name": "ipython",
    "version": 3
   },
   "file_extension": ".py",
   "mimetype": "text/x-python",
   "name": "python",
   "nbconvert_exporter": "python",
   "pygments_lexer": "ipython3",
   "version": "3.11.13"
  }
 },
 "nbformat": 4,
 "nbformat_minor": 5
}
