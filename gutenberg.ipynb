{
 "cells": [
  {
   "cell_type": "code",
   "execution_count": 4,
   "id": "90463f6d",
   "metadata": {},
   "outputs": [
    {
     "name": "stdout",
     "output_type": "stream",
     "text": [
      "\n",
      "# conda environments:\n",
      "#\n",
      "base                   C:\\Users\\yadav\\anaconda3\n",
      "h501-gutenberg       * C:\\Users\\yadav\\anaconda3\\envs\\h501-gutenberg\n",
      "measles-case-analysis   C:\\Users\\yadav\\anaconda3\\envs\\measles-case-analysis\n",
      "                       C:\\Users\\yadav\\miniconda3\n",
      "\n"
     ]
    }
   ],
   "source": [
    "!conda env list\n"
   ]
  },
  {
   "cell_type": "code",
   "execution_count": 22,
   "id": "acbeff3b",
   "metadata": {},
   "outputs": [
    {
     "ename": "TypeError",
     "evalue": "list_authors() got an unexpected keyword argument 'by_languages'",
     "output_type": "error",
     "traceback": [
      "\u001b[31m---------------------------------------------------------------------------\u001b[39m",
      "\u001b[31mTypeError\u001b[39m                                 Traceback (most recent call last)",
      "\u001b[36mCell\u001b[39m\u001b[36m \u001b[39m\u001b[32mIn[22]\u001b[39m\u001b[32m, line 3\u001b[39m\n\u001b[32m      1\u001b[39m \u001b[38;5;28;01mfrom\u001b[39;00m\u001b[38;5;250m \u001b[39m\u001b[34;01mtt_gutenberg\u001b[39;00m\u001b[34;01m.\u001b[39;00m\u001b[34;01mauthors\u001b[39;00m\u001b[38;5;250m \u001b[39m\u001b[38;5;28;01mimport\u001b[39;00m *\n\u001b[32m----> \u001b[39m\u001b[32m3\u001b[39m \u001b[43mlist_authors\u001b[49m\u001b[43m(\u001b[49m\u001b[43mby_languages\u001b[49m\u001b[43m=\u001b[49m\u001b[38;5;28;43;01mTrue\u001b[39;49;00m\u001b[43m,\u001b[49m\u001b[43m \u001b[49m\u001b[43malias\u001b[49m\u001b[43m=\u001b[49m\u001b[38;5;28;43;01mTrue\u001b[39;49;00m\u001b[43m)\u001b[49m\n",
      "\u001b[31mTypeError\u001b[39m: list_authors() got an unexpected keyword argument 'by_languages'"
     ]
    }
   ],
   "source": [
    "from tt_gutenberg.authors import *\n",
    "\n",
    "list_authors(by_languages=True, alias=True)"
   ]
  }
 ],
 "metadata": {
  "kernelspec": {
   "display_name": "h501-gutenberg",
   "language": "python",
   "name": "python3"
  },
  "language_info": {
   "codemirror_mode": {
    "name": "ipython",
    "version": 3
   },
   "file_extension": ".py",
   "mimetype": "text/x-python",
   "name": "python",
   "nbconvert_exporter": "python",
   "pygments_lexer": "ipython3",
   "version": "3.11.13"
  }
 },
 "nbformat": 4,
 "nbformat_minor": 5
}
